{
 "cells": [
  {
   "cell_type": "markdown",
   "id": "33fabee7",
   "metadata": {},
   "source": [
    "# Metodo Kohonen\n",
    "### Entrenamiento\n",
    "Primero entrenamos el conjunto y obtenemos la red"
   ]
  },
  {
   "cell_type": "code",
   "execution_count": 22,
   "id": "f0cb7340-78ca-4ab0-9972-8b6ae3ecc8f9",
   "metadata": {},
   "outputs": [],
   "source": [
    "import numpy as np\n",
    "from get_data import data, raw_data\n",
    "from Neuron import Neuron\n",
    "#Paso Inicial: Inicializo valores\n",
    "\n",
    "k = 3\n",
    "p = len(raw_data)\n",
    "labels = raw_data.columns[1:]\n",
    "countries = raw_data.values[:,0]\n",
    "n = data.shape[1]\n",
    "\n",
    "def update_eta(old_eta):\n",
    "  return old_eta * 1\n",
    "\n",
    "def update_radius(old_radius):\n",
    "  return old_radius * 1\n",
    "\n",
    "def set_init_weights():\n",
    "  w = []\n",
    "  for _ in range(0,k*k):\n",
    "    i = np.random.randint(len(data))\n",
    "    wi = data[i]\n",
    "    w.append(wi)\n",
    "  return np.array(w)\n",
    "\n",
    "weights = set_init_weights()\n",
    "grid = np.empty((k,k), Neuron)\n",
    "\n",
    "index = 0\n",
    "for i in range(k):\n",
    "    for j in range(k):\n",
    "        grid[i][j] = Neuron(weights[index],0,(i,j))\n",
    "        index += 1\n",
    "\n",
    "def update_neighborhood_weight(radius, w_k):\n",
    "  umbral = weights[w_k]\n",
    "  res = []\n",
    "  for i in range(len(weights)):\n",
    "    if i != w_k and np.linalg.norm(weights[i] - umbral) < radius:\n",
    "      res.append(i)\n",
    "  return np.array(res)\n",
    "\n",
    "init_learn_rate = 0.3\n",
    "init_radius = 2\n",
    "max_epochs = 500 * k * k\n",
    "\n",
    "  #Paso Inicial\n",
    "radius = init_radius\n",
    "eta = init_learn_rate\n",
    "t = 1\n",
    "cut = False\n",
    "#Paso t\n",
    "while t < max_epochs and not cut:\n",
    "  #Paso 1: Selecciono un registro de entrada Xp\n",
    "  x_index = np.random.choice(range(data.shape[0]))\n",
    "  x = data[x_index]\n",
    "  \n",
    "  #Paso 2: Encontrar la neurona ganadora\n",
    "  aux = []\n",
    "  for row in grid:\n",
    "    for neu in row:\n",
    "        aux.append(np.linalg.norm(x-neu.weights))\n",
    "  aux = np.array(aux)\n",
    "  w_k = np.argmin(aux)\n",
    "  \n",
    "  #Paso 3: Actualizar los pesos de las neuronas vecinas\n",
    "  n_k = update_neighborhood_weight(radius,w_k)\n",
    "  \n",
    "  index = 0\n",
    "  for i in range(k):\n",
    "    for j in range(k):\n",
    "        if (j in n_k):\n",
    "          weights[index] = weights[index] + eta * (x-weights[index])\n",
    "          grid[i][j].weights = weights[index]\n",
    "        index += 1\n",
    "          \n",
    "  radius = update_radius(radius)\n",
    "  eta = update_eta(eta)\n",
    "  t += 1\n",
    "\n",
    "# for i in range(k):\n",
    "#   for j in range(k):\n",
    "#     print('i: ', i, 'j: ', j, ' ', grid[i][j].weights, '\\n')\n"
   ]
  },
  {
   "cell_type": "markdown",
   "id": "85341ef4",
   "metadata": {},
   "source": [
    "### Visualizacion y analisis\n",
    "Luego observamos y analizamos los datos obtenidos"
   ]
  },
  {
   "cell_type": "code",
   "execution_count": 23,
   "id": "b029c373",
   "metadata": {},
   "outputs": [],
   "source": [
    "import numpy as np\n",
    "import seaborn as sns\n",
    "import matplotlib.pyplot as plt\n",
    "\n",
    "values = np.zeros((k,k), int)\n",
    "index = 0\n",
    "for entrie in data:\n",
    "    min_position = (None,None)\n",
    "    min_dist = 999\n",
    "    for row in grid:\n",
    "        for col in row:\n",
    "            w = col.weights\n",
    "            dist = np.linalg.norm(entrie-w)\n",
    "            if dist < min_dist:\n",
    "                min_position = col.position\n",
    "                min_dist = dist\n",
    "    grid[min_position[0], min_position[1]].count += 1\n",
    "    grid[min_position[0], min_position[1]].add_element(countries[index])\n",
    "    values[min_position[0], min_position[1]] += 1\n",
    "    index += 1\n"
   ]
  },
  {
   "cell_type": "markdown",
   "id": "a4ce968d",
   "metadata": {},
   "source": [
    "## Vemos que pais tiene cada neurona"
   ]
  },
  {
   "cell_type": "code",
   "execution_count": 24,
   "id": "34714dc5",
   "metadata": {},
   "outputs": [
    {
     "name": "stdout",
     "output_type": "stream",
     "text": [
      "Neurona ( 0 , 0 ) tiene a:  []\n",
      "Neurona ( 0 , 1 ) tiene a:  []\n",
      "Neurona ( 0 , 2 ) tiene a:  ['Austria' 'Belgium' 'Bulgaria' 'Croatia' 'Czech Republic' 'Denmark'\n",
      " 'Estonia' 'Greece' 'Hungary' 'Iceland' 'Ireland' 'Latvia' 'Lithuania'\n",
      " 'Luxembourg' 'Netherlands' 'Portugal' 'Slovakia' 'Slovenia' 'Switzerland']\n",
      "Neurona ( 0 , 3 ) tiene a:  ['Finland' 'Germany' 'Italy' 'Norway' 'Poland' 'Spain' 'Sweden' 'Ukraine'\n",
      " 'United Kingdom']\n",
      "Neurona ( 0 , 4 ) tiene a:  []\n",
      "Neurona ( 1 , 0 ) tiene a:  []\n",
      "Neurona ( 1 , 1 ) tiene a:  []\n",
      "Neurona ( 1 , 2 ) tiene a:  []\n",
      "Neurona ( 1 , 3 ) tiene a:  []\n",
      "Neurona ( 1 , 4 ) tiene a:  []\n",
      "Neurona ( 2 , 0 ) tiene a:  []\n",
      "Neurona ( 2 , 1 ) tiene a:  []\n",
      "Neurona ( 2 , 2 ) tiene a:  []\n",
      "Neurona ( 2 , 3 ) tiene a:  []\n",
      "Neurona ( 2 , 4 ) tiene a:  []\n",
      "Neurona ( 3 , 0 ) tiene a:  []\n",
      "Neurona ( 3 , 1 ) tiene a:  []\n",
      "Neurona ( 3 , 2 ) tiene a:  []\n",
      "Neurona ( 3 , 3 ) tiene a:  []\n",
      "Neurona ( 3 , 4 ) tiene a:  []\n",
      "Neurona ( 4 , 0 ) tiene a:  []\n",
      "Neurona ( 4 , 1 ) tiene a:  []\n",
      "Neurona ( 4 , 2 ) tiene a:  []\n",
      "Neurona ( 4 , 3 ) tiene a:  []\n",
      "Neurona ( 4 , 4 ) tiene a:  []\n"
     ]
    }
   ],
   "source": [
    "i = 0\n",
    "for col in grid:\n",
    "    for j in range(len(col)):\n",
    "        print('Neurona (',i,',',j,') tiene a: ', grid[i][j].elements)\n",
    "    i += 1"
   ]
  },
  {
   "cell_type": "markdown",
   "id": "55a7afd6",
   "metadata": {},
   "source": [
    "## Lo comparamos en un heat map"
   ]
  },
  {
   "cell_type": "code",
   "execution_count": 25,
   "id": "cbad1713",
   "metadata": {},
   "outputs": [
    {
     "data": {
      "text/plain": [
       "<AxesSubplot:>"
      ]
     },
     "execution_count": 25,
     "metadata": {},
     "output_type": "execute_result"
    },
    {
     "data": {
      "image/png": "[encoded data removed]",
      "text/plain": [
       "<Figure size 1440x720 with 2 Axes>"
      ]
     },
     "metadata": {
      "needs_background": "light"
     },
     "output_type": "display_data"
    }
   ],
   "source": [
    "fig, ax = plt.subplots(figsize=(20,10))\n",
    "\n",
    "for col in grid:\n",
    "  for neuron in col:\n",
    "    i, j = neuron.position[0], neuron.position[1]\n",
    "    step = 1 / (len(neuron.elements) - 0.2) if len(neuron.elements) > 0 else 0\n",
    "    i = 0.4 if len(neuron.elements) == 1 else i\n",
    "    for e in neuron.elements:\n",
    "      text = ax.text(j + 0.2,i-0.01, e,\n",
    "                       ha=\"center\", va=\"center\", color=\"#000\")\n",
    "      if i > 0.8:\n",
    "        j += 0.4\n",
    "        i = 0.2\n",
    "      i += step\n",
    "sns.heatmap(values, annot=True, center=0, ax=ax, cmap='summer',linewidths=.5)\n"
   ]
  },
  {
   "cell_type": "markdown",
   "id": "ef4dedb9",
   "metadata": {},
   "source": [
    "## Matriz U"
   ]
  },
  {
   "cell_type": "code",
   "execution_count": 26,
   "id": "2ca83cbe",
   "metadata": {},
   "outputs": [
    {
     "data": {
      "text/plain": [
       "<AxesSubplot:>"
      ]
     },
     "execution_count": 26,
     "metadata": {},
     "output_type": "execute_result"
    },
    {
     "data": {
      "image/png": "[encoded data removed]",
      "text/plain": [
       "<Figure size 720x576 with 2 Axes>"
      ]
     },
     "metadata": {
      "needs_background": "light"
     },
     "output_type": "display_data"
    }
   ],
   "source": [
    "u_values = np.zeros((k,k),float)\n",
    "\n",
    "def get_neighbors(i,j):\n",
    "  return [(i,j+1), (i+1,j), (i+1,j+1), (i,j-1), (i-1,j), (i-1,j-1), (i-1, j+1), (i+1, j-1)]\n",
    "\n",
    "for i in range(k):\n",
    "  for j in range(k):\n",
    "    w = grid[i,j].weights\n",
    "    neighbors = get_neighbors(i,j)\n",
    "    true_neighbors = 0\n",
    "    distances = []\n",
    "    for n in neighbors:\n",
    "      x, y = n[0], n[1]\n",
    "      if x >= 0 and y >= 0 and x < k and y < k:\n",
    "        neighbor_neuron_w = grid[x,y].weights\n",
    "        dist = np.linalg.norm(w - neighbor_neuron_w)\n",
    "        distances.append(dist)\n",
    "        true_neighbors += 1\n",
    "    u_values[i][j] = (sum(distances)/true_neighbors)\n",
    "    \n",
    "fig, ax = plt.subplots(figsize=(10,8))\n",
    "sns.heatmap(u_values,cmap='summer',linewidths=.5, ax=ax )"
   ]
  }
 ],
 "metadata": {
  "kernelspec": {
   "display_name": "Python 3 (ipykernel)",
   "language": "python",
   "name": "python3"
  },
  "language_info": {
   "codemirror_mode": {
    "name": "ipython",
    "version": 3
   },
   "file_extension": ".py",
   "mimetype": "text/x-python",
   "name": "python",
   "nbconvert_exporter": "python",
   "pygments_lexer": "ipython3",
   "version": "3.8.10"
  }
 },
 "nbformat": 4,
 "nbformat_minor": 5
}
