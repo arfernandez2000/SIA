{
 "cells": [
  {
   "cell_type": "markdown",
   "id": "33fabee7",
   "metadata": {},
   "source": [
    "# Metodo Kohonen\n",
    "### Entrenamiento\n",
    "Primero entrenamos el conjunto y obtenemos la red"
   ]
  },
  {
   "cell_type": "code",
   "execution_count": 3,
   "id": "40487fd1-a13d-4d79-a576-86cabff1ed3d",
   "metadata": {},
   "outputs": [],
   "source": [
    "import numpy as np\n",
    "\n",
    "class Neuron:\n",
    "    def __init__(self, weights: list, count: int, position: (int,int)):\n",
    "        self.weights = weights\n",
    "        self.count = count\n",
    "        self.elemenets = np.array([])\n",
    "        self.position = position\n",
    "                 \n",
    "    def add_element(self, elem):\n",
    "        self.elements = np.append(self.elements,elem)\n",
    "        \n",
    "    def get_weights(self):\n",
    "        return self.weights"
   ]
  },
  {
   "cell_type": "code",
   "execution_count": 5,
   "id": "f0cb7340-78ca-4ab0-9972-8b6ae3ecc8f9",
   "metadata": {},
   "outputs": [],
   "source": [
    "import numpy as np\n",
    "from get_data import data, raw_data\n",
    "\n",
    "#Paso Inicial: Inicializo valores\n",
    "\n",
    "k = 10\n",
    "p = len(raw_data)\n",
    "labels = raw_data.columns[1:]\n",
    "countries = raw_data.values[:,0]\n",
    "n = data.shape[1]\n",
    "\n",
    "def set_init_weights():\n",
    "  w = []\n",
    "  for _ in range(0,k*k):\n",
    "    wi = np.random.rand(n)\n",
    "    w.append(wi)\n",
    "  return np.array(w)\n",
    "\n",
    "weights = set_init_weights()\n",
    "grid = np.empty((k,k), Neuron)\n",
    "index = 0\n",
    "for i in range(k):\n",
    "    for j in range(k):\n",
    "        grid[i][j] = Neuron(weights[index],0,(i,j))\n",
    "        index += 1\n",
    "\n",
    "def update_neighborhood_weight(radius, w_k):\n",
    "  umbral = weights[w_k]\n",
    "  res = []\n",
    "  for i in range(len(weights)):\n",
    "    if np.linalg.norm(weights[i] - umbral) < radius:\n",
    "      res.append(i)\n",
    "  return np.array(res)\n",
    "\n",
    "init_learn_rate = 0.5\n",
    "init_radius = np.sqrt(2)\n",
    "max_epochs = 100\n",
    "\n",
    "  #Paso Inicial\n",
    "radius = init_radius\n",
    "learn_rate = init_learn_rate\n",
    "t = 1\n",
    "cut = False\n",
    "#Paso t\n",
    "while t < max_epochs and not cut:\n",
    "  #Paso 1: Selecciono un registro de entrada Xp\n",
    "  x_index = np.random.choice(range(data.shape[0]))\n",
    "  x = data[x_index]\n",
    "  #Paso 2: Encontrar la neurona ganadora\n",
    "  aux = []\n",
    "  for row in grid:\n",
    "    for neu in row:\n",
    "        aux.append(np.linalg.norm(x-neu.weights))\n",
    "  aux = np.array(aux)\n",
    "  w_k = np.argmin(aux)\n",
    "  #Paso 3: Actualizar los pesos de las neuronas vecinas\n",
    "  n_k = update_neighborhood_weight(radius,w_k)\n",
    "  k = 0\n",
    "  for i in range(k):\n",
    "    for j in range(k):\n",
    "        if (j in n_k):\n",
    "          weights[j] = weights[j] + learn_rate * (x-weights[j])\n",
    "          grid[i][j].weights = weights\n",
    "  t += 1\n"
   ]
  },
  {
   "cell_type": "markdown",
   "id": "85341ef4",
   "metadata": {},
   "source": [
    "### Visualizacion y analisis\n",
    "Luego observamos y analizamos los datos obtenidos"
   ]
  },
  {
   "cell_type": "code",
   "execution_count": 11,
   "id": "b029c373",
   "metadata": {},
   "outputs": [
    {
     "data": {
      "image/png": "[encoded data removed]",
      "text/plain": [
       "<Figure size 432x288 with 1 Axes>"
      ]
     },
     "metadata": {
      "needs_background": "light"
     },
     "output_type": "display_data"
    }
   ],
   "source": [
    "import numpy as np\n",
    "import seaborn as sns\n",
    "import matplotlib.pylab as plt\n",
    "\n",
    "k = 10\n",
    "values = np.empty((k,k), int)\n",
    "\n",
    "for entrie in data:\n",
    "    min_position = (0,0)\n",
    "    min_dist = 999\n",
    "    for row in grid:\n",
    "        for col in row:\n",
    "            w = col.weights\n",
    "            dist = np.linalg.norm(entrie-w)\n",
    "            if dist < min_dist:\n",
    "                min_position = col.position\n",
    "                min_dist = dist\n",
    "                grid[min_position[0], min_position[1]].count += 1\n",
    "                values[min_position[0], min_position[1]] += 1\n",
    "\n",
    "plt.imshow( values , cmap = 'summer' , interpolation = 'nearest' )\n",
    "#print(grid\n",
    "plt.title( \"2-D Heat Map\" )\n",
    "plt.show()"
   ]
  },
  {
   "cell_type": "code",
   "execution_count": null,
   "id": "20ce7006-5981-4209-aca0-bd967956f43e",
   "metadata": {},
   "outputs": [],
   "source": []
  },
  {
   "cell_type": "code",
   "execution_count": null,
   "id": "98a68d29-0825-48fe-9dc3-e17a348c5d95",
   "metadata": {},
   "outputs": [],
   "source": []
  },
  {
   "cell_type": "code",
   "execution_count": null,
   "id": "5faf4574-3def-402c-b43f-6c9fdd239634",
   "metadata": {},
   "outputs": [],
   "source": []
  },
  {
   "cell_type": "code",
   "execution_count": null,
   "id": "170d1e67-526b-4783-ae04-92def2001456",
   "metadata": {},
   "outputs": [],
   "source": []
  }
 ],
 "metadata": {
  "kernelspec": {
   "display_name": "Python 3 (ipykernel)",
   "language": "python",
   "name": "python3"
  },
  "language_info": {
   "codemirror_mode": {
    "name": "ipython",
    "version": 3
   },
   "file_extension": ".py",
   "mimetype": "text/x-python",
   "name": "python",
   "nbconvert_exporter": "python",
   "pygments_lexer": "ipython3",
   "version": "3.8.10"
  }
 },
 "nbformat": 4,
 "nbformat_minor": 5
}
