{
 "cells": [
  {
   "cell_type": "code",
   "execution_count": 8,
   "id": "f0cb7340-78ca-4ab0-9972-8b6ae3ecc8f9",
   "metadata": {},
   "outputs": [
    {
     "name": "stdout",
     "output_type": "stream",
     "text": [
      "WK:  151\n"
     ]
    },
    {
     "ename": "IndexError",
     "evalue": "index 151 is out of bounds for axis 0 with size 28",
     "output_type": "error",
     "traceback": [
      "\u001b[0;31m---------------------------------------------------------------------------\u001b[0m",
      "\u001b[0;31mIndexError\u001b[0m                                Traceback (most recent call last)",
      "\u001b[1;32m/home/fm/Documents/Facultad/ITBA/SIA/tps/SIA/TP4/kohonen/kohonen_notebook.ipynb Cell 1'\u001b[0m in \u001b[0;36m<cell line: 44>\u001b[0;34m()\u001b[0m\n\u001b[1;32m     <a href='vscode-notebook-cell:/home/fm/Documents/Facultad/ITBA/SIA/tps/SIA/TP4/kohonen/kohonen_notebook.ipynb#ch0000000?line=41'>42</a>\u001b[0m     \u001b[39mprint\u001b[39m(n_k)\n\u001b[1;32m     <a href='vscode-notebook-cell:/home/fm/Documents/Facultad/ITBA/SIA/tps/SIA/TP4/kohonen/kohonen_notebook.ipynb#ch0000000?line=42'>43</a>\u001b[0m     t \u001b[39m+\u001b[39m\u001b[39m=\u001b[39m \u001b[39m1\u001b[39m\n\u001b[0;32m---> <a href='vscode-notebook-cell:/home/fm/Documents/Facultad/ITBA/SIA/tps/SIA/TP4/kohonen/kohonen_notebook.ipynb#ch0000000?line=43'>44</a>\u001b[0m kohonen()\n",
      "\u001b[1;32m/home/fm/Documents/Facultad/ITBA/SIA/tps/SIA/TP4/kohonen/kohonen_notebook.ipynb Cell 1'\u001b[0m in \u001b[0;36mkohonen\u001b[0;34m(init_radius, init_learn_rate, max_epochs)\u001b[0m\n\u001b[1;32m     <a href='vscode-notebook-cell:/home/fm/Documents/Facultad/ITBA/SIA/tps/SIA/TP4/kohonen/kohonen_notebook.ipynb#ch0000000?line=38'>39</a>\u001b[0m w_k \u001b[39m=\u001b[39m np\u001b[39m.\u001b[39margmin(aux)\n\u001b[1;32m     <a href='vscode-notebook-cell:/home/fm/Documents/Facultad/ITBA/SIA/tps/SIA/TP4/kohonen/kohonen_notebook.ipynb#ch0000000?line=39'>40</a>\u001b[0m \u001b[39m#Paso 3: Actualizar los pesos de las neuronas vecinas\u001b[39;00m\n\u001b[0;32m---> <a href='vscode-notebook-cell:/home/fm/Documents/Facultad/ITBA/SIA/tps/SIA/TP4/kohonen/kohonen_notebook.ipynb#ch0000000?line=40'>41</a>\u001b[0m n_k \u001b[39m=\u001b[39m update_neighborhood_weight(radius,w_k)\n\u001b[1;32m     <a href='vscode-notebook-cell:/home/fm/Documents/Facultad/ITBA/SIA/tps/SIA/TP4/kohonen/kohonen_notebook.ipynb#ch0000000?line=41'>42</a>\u001b[0m \u001b[39mprint\u001b[39m(n_k)\n\u001b[1;32m     <a href='vscode-notebook-cell:/home/fm/Documents/Facultad/ITBA/SIA/tps/SIA/TP4/kohonen/kohonen_notebook.ipynb#ch0000000?line=42'>43</a>\u001b[0m t \u001b[39m+\u001b[39m\u001b[39m=\u001b[39m \u001b[39m1\u001b[39m\n",
      "\u001b[1;32m/home/fm/Documents/Facultad/ITBA/SIA/tps/SIA/TP4/kohonen/kohonen_notebook.ipynb Cell 1'\u001b[0m in \u001b[0;36mupdate_neighborhood_weight\u001b[0;34m(radius, w_k)\u001b[0m\n\u001b[1;32m     <a href='vscode-notebook-cell:/home/fm/Documents/Facultad/ITBA/SIA/tps/SIA/TP4/kohonen/kohonen_notebook.ipynb#ch0000000?line=15'>16</a>\u001b[0m \u001b[39mdef\u001b[39;00m \u001b[39mupdate_neighborhood_weight\u001b[39m(radius, w_k):\n\u001b[1;32m     <a href='vscode-notebook-cell:/home/fm/Documents/Facultad/ITBA/SIA/tps/SIA/TP4/kohonen/kohonen_notebook.ipynb#ch0000000?line=16'>17</a>\u001b[0m   \u001b[39m#neu - neuk ?\u001b[39;00m\n\u001b[1;32m     <a href='vscode-notebook-cell:/home/fm/Documents/Facultad/ITBA/SIA/tps/SIA/TP4/kohonen/kohonen_notebook.ipynb#ch0000000?line=17'>18</a>\u001b[0m   \u001b[39mprint\u001b[39m(\u001b[39m'\u001b[39m\u001b[39mWK: \u001b[39m\u001b[39m'\u001b[39m, w_k)\n\u001b[0;32m---> <a href='vscode-notebook-cell:/home/fm/Documents/Facultad/ITBA/SIA/tps/SIA/TP4/kohonen/kohonen_notebook.ipynb#ch0000000?line=18'>19</a>\u001b[0m   filterArray \u001b[39m=\u001b[39m (data \u001b[39m-\u001b[39m data[w_k]) \u001b[39m>\u001b[39m radius\n\u001b[1;32m     <a href='vscode-notebook-cell:/home/fm/Documents/Facultad/ITBA/SIA/tps/SIA/TP4/kohonen/kohonen_notebook.ipynb#ch0000000?line=19'>20</a>\u001b[0m   \u001b[39mprint\u001b[39m(filterArray)\n\u001b[1;32m     <a href='vscode-notebook-cell:/home/fm/Documents/Facultad/ITBA/SIA/tps/SIA/TP4/kohonen/kohonen_notebook.ipynb#ch0000000?line=20'>21</a>\u001b[0m   \u001b[39mreturn\u001b[39;00m data[filterArray]\n",
      "\u001b[0;31mIndexError\u001b[0m: index 151 is out of bounds for axis 0 with size 28"
     ]
    }
   ],
   "source": [
    "import numpy as np\n",
    "from get_data import data, raw_data\n",
    "#Paso Inicial: Inicializo valores\n",
    "k = 5 # Revisar\n",
    "p = len(raw_data)\n",
    "countries = raw_data.values[:,0]\n",
    "n = data.shape[1]\n",
    "\n",
    "def set_init_weights():\n",
    "  w = []\n",
    "  for _ in range(1,p):\n",
    "    wi = np.random.rand(n)\n",
    "    w.append(wi)\n",
    "  return np.array(w)\n",
    "\n",
    "def update_neighborhood_weight(radius, w_k):\n",
    "  #neu - neuk ?\n",
    "  print('WK: ', w_k)\n",
    "  filterArray = (data - data[w_k]) > radius\n",
    "  print(filterArray)\n",
    "  return data[filterArray]\n",
    "\n",
    "def kohonen(init_radius = 1, init_learn_rate = 0.5, max_epochs = 100):\n",
    "  #Paso Inicial\n",
    "  weights = set_init_weights()\n",
    "  radius = init_radius\n",
    "  learn_rate = init_learn_rate\n",
    "  t = 1\n",
    "  cut = False\n",
    "  #Paso t\n",
    "  while t < max_epochs and not cut:\n",
    "    #Paso 1: Selecciono un registro de entrada Xp\n",
    "    x_index = np.random.choice(range(data.shape[0]))\n",
    "    x = data[x_index]\n",
    "    #Paso 2: Encontrar la neurona ganadora\n",
    "    aux = []\n",
    "    for w in weights:\n",
    "      aux.append(x - w)\n",
    "    w_k = np.argmin(aux)\n",
    "    #Paso 3: Actualizar los pesos de las neuronas vecinas\n",
    "    n_k = update_neighborhood_weight(radius,w_k)\n",
    "    print(n_k)\n",
    "    t += 1\n",
    "kohonen()"
   ]
  },
  {
   "cell_type": "code",
   "execution_count": null,
   "id": "bdcf8315-2795-4d9b-b470-8f5cd9ee86ea",
   "metadata": {},
   "outputs": [],
   "source": []
  }
 ],
 "metadata": {
  "kernelspec": {
   "display_name": "Python 3 (ipykernel)",
   "language": "python",
   "name": "python3"
  },
  "language_info": {
   "codemirror_mode": {
    "name": "ipython",
    "version": 3
   },
   "file_extension": ".py",
   "mimetype": "text/x-python",
   "name": "python",
   "nbconvert_exporter": "python",
   "pygments_lexer": "ipython3",
   "version": "3.8.10"
  }
 },
 "nbformat": 4,
 "nbformat_minor": 5
}
