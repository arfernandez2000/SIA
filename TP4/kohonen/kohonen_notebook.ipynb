{
 "cells": [
  {
   "cell_type": "code",
   "execution_count": 10,
   "id": "f0cb7340-78ca-4ab0-9972-8b6ae3ecc8f9",
   "metadata": {},
   "outputs": [],
   "source": [
    "import numpy as np\n",
    "from get_data import data, raw_data\n",
    "#Paso Inicial: Inicializo valores\n",
    "k = 5 # Revisar\n",
    "p = len(raw_data)\n",
    "countries = raw_data.values[:,0]\n",
    "n = data.shape[1]\n",
    "\n",
    "def set_init_weights():\n",
    "  w = []\n",
    "  for _ in range(0,p):\n",
    "    wi = np.random.rand(n)\n",
    "    w.append(wi)\n",
    "  return np.array(w)\n",
    "\n",
    "def update_neighborhood_weight(radius, w_k):\n",
    "  #neu - neuk ?\n",
    "  umbral = np.sum(data[w_k])\n",
    "  res = []\n",
    "  for i in range(len(data)):\n",
    "    if np.abs(np.sum(data[i]) - umbral) < radius:\n",
    "      res.append(i)\n",
    "  return np.array(res)\n",
    "\n",
    "def kohonen(init_radius = np.sqrt(2), init_learn_rate = 0.5, max_epochs = 100):\n",
    "  #Paso Inicial\n",
    "  weights = set_init_weights()\n",
    "  radius = init_radius\n",
    "  learn_rate = init_learn_rate\n",
    "  t = 1\n",
    "  cut = False\n",
    "  #Paso t\n",
    "  while t < max_epochs and not cut:\n",
    "    #Paso 1: Selecciono un registro de entrada Xp\n",
    "    x_index = np.random.choice(range(data.shape[0]))\n",
    "    x = data[x_index]\n",
    "    #Paso 2: Encontrar la neurona ganadora\n",
    "    # Xp se refiere a todo el conjunto o a un registro elegido de Xp?\n",
    "    aux = []\n",
    "    for w in weights:\n",
    "      aux.append(np.sum(np.abs(data - w))) # PREGUNTAR si data o x\n",
    "    aux = np.array(aux)\n",
    "    w_k = np.argmin(aux)\n",
    "    #Paso 3: Actualizar los pesos de las neuronas vecinas\n",
    "    n_k = update_neighborhood_weight(radius,w_k)\n",
    "    for j in range(len(weights)):\n",
    "      if (j in n_k):\n",
    "        weights[j] = weights[j] + learn_rate * (data[j]-weights[j])\n",
    "    t += 1\n",
    "    \n",
    "kohonen()"
   ]
  },
  {
   "cell_type": "code",
   "execution_count": null,
   "id": "6614f032",
   "metadata": {},
   "outputs": [],
   "source": []
  },
  {
   "cell_type": "code",
   "execution_count": null,
   "id": "bdcf8315-2795-4d9b-b470-8f5cd9ee86ea",
   "metadata": {},
   "outputs": [],
   "source": []
  }
 ],
 "metadata": {
  "kernelspec": {
   "display_name": "Python 3 (ipykernel)",
   "language": "python",
   "name": "python3"
  },
  "language_info": {
   "codemirror_mode": {
    "name": "ipython",
    "version": 3
   },
   "file_extension": ".py",
   "mimetype": "text/x-python",
   "name": "python",
   "nbconvert_exporter": "python",
   "pygments_lexer": "ipython3",
   "version": "3.8.10"
  }
 },
 "nbformat": 4,
 "nbformat_minor": 5
}
